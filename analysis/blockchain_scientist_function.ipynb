{
 "cells": [
  {
   "cell_type": "markdown",
   "id": "f936dc89-461e-44bd-b46f-c3d3be81ee77",
   "metadata": {},
   "source": [
    "# Functions For BlockChain Scientists\n",
    "DB connecting - initial setting"
   ]
  },
  {
   "cell_type": "code",
   "execution_count": 1,
   "id": "ab48a3ce-c9a3-4d9e-9021-d39719c76cbe",
   "metadata": {},
   "outputs": [],
   "source": [
    "import sys\n",
    "sys.path.append('../')\n",
    "from utils.doris_connector import DorisClient\n",
    "\n",
    "db = DorisClient('dw')"
   ]
  },
  {
   "cell_type": "markdown",
   "id": "060c6068-65a1-43f3-94c6-bf82e2b38f83",
   "metadata": {
    "jp-MarkdownHeadingCollapsed": true,
    "tags": []
   },
   "source": [
    "# sample transaction"
   ]
  },
  {
   "cell_type": "code",
   "execution_count": 17,
   "id": "651345c6-0e1d-4446-9c48-b487ffe58fb3",
   "metadata": {
    "collapsed": true,
    "jupyter": {
     "outputs_hidden": true
    },
    "tags": []
   },
   "outputs": [
    {
     "name": "stderr",
     "output_type": "stream",
     "text": [
      "/opt/conda/lib/python3.9/site-packages/pandas/io/sql.py:761: UserWarning: pandas only support SQLAlchemy connectable(engine/connection) ordatabase string URI or sqlite3 DBAPI2 connectionother DBAPI2 objects are not tested, please consider using SQLAlchemy\n",
      "  warnings.warn(\n"
     ]
    }
   ],
   "source": [
    "txn_hash = '0x958236266991bc3fe3b77feaacea120f172c0708ad01c7a715b255f218f9313c'\n",
    "txn_detail_sql = \"\"\"\n",
    "select a.block_number,a.log_index,a.transaction_hash\n",
    "    ,a.token_address,b.symbol,b.token_description,b.decimals\n",
    "    ,a.from_address,c.tag_code\n",
    "    ,a.to_address,c.tag_code\n",
    "    ,a.value\n",
    "    ,a.value/POWER(10, b.decimals) as txn_value\n",
    "from prod.transfer_event_eth as a\n",
    "left join prod.token as b\n",
    "on a.token_address = b.address\n",
    "left join\n",
    "(\n",
    "    select address\n",
    "        ,max(tag_code) as tag_code\n",
    "    from prod.tag_address\n",
    "    group by 1\n",
    ") as c\n",
    "on a.from_address = c.address\n",
    "left join \n",
    "(\n",
    "    select address\n",
    "        ,max(tag_code) as tag_code\n",
    "    from prod.tag_address\n",
    "    group by 1\n",
    ") as d\n",
    "on a.to_address = d.address\n",
    "where a.transaction_hash = '{txn_hash}'\n",
    "order by log_index asc\n",
    "\"\"\".format(txn_hash=txn_hash)\n",
    "df = pd.read_sql(txn_detail_sql, con=connection)"
   ]
  },
  {
   "cell_type": "markdown",
   "id": "8a98f726-cf62-4773-833a-bf39333752d2",
   "metadata": {
    "jp-MarkdownHeadingCollapsed": true,
    "tags": []
   },
   "source": [
    "# Coinbase Transfer"
   ]
  },
  {
   "cell_type": "code",
   "execution_count": 2,
   "id": "92e30371-0d70-4165-bdc2-db6131a8ceee",
   "metadata": {},
   "outputs": [
    {
     "data": {
      "text/plain": [
       "((15177999,\n",
       "  '0xec7b3c821492dd76ac274b7ac37e0b55cabe535ecbd917b740f8d3389c2c3b27',\n",
       "  0.5174015903,\n",
       "  0.005717804240492656),\n",
       " (15177999,\n",
       "  '0xf41775f2a03045511deee450845d6e197a2909ac46c2f3759f2dff699eee5aa1',\n",
       "  0.2317523579,\n",
       "  0.013492739020167864),\n",
       " (15103060,\n",
       "  '0xc154db3aefe3e7a1d58ee45c2b543faa49e341075588f7e1e113ffb93d74d930',\n",
       "  0.0,\n",
       "  0.01613954235101501))"
      ]
     },
     "execution_count": 2,
     "metadata": {},
     "output_type": "execute_result"
    }
   ],
   "source": [
    "def get_coinbase_trf(txn_list,start_block,end_block):\n",
    "    sql =\"\"\"\n",
    "    select a.block_number\n",
    "        ,a.transaction_hash\n",
    "        ,max(case when a.miner is not null then a.amount else 0 end) as coinbase_trf_amt\n",
    "        ,max(b.effective_gas_price * b.gas_used / POWER(10.0, 18)) as gas_fee\n",
    "    from (\n",
    "        select a.block_number,a.transaction_hash\n",
    "            ,a.from_address,a.to_address\n",
    "            ,b.miner,a.token_address,a.symbol,a.amount\n",
    "        from dw.dwb_token_transfer_detail_eth_hi as a\n",
    "        left join prod.blocks as b\n",
    "        on a.block_number = b.block_number\n",
    "        and a.to_address = b.miner\n",
    "        and b.block_number >= {start_block} and b.block_number <= {end_block}\n",
    "        and b.`chain` = 'eth'\n",
    "        where a.block_number >= {start_block} and a.block_number <= {end_block}\n",
    "        and a.transaction_hash in ({txn_list})\n",
    "    ) as a \n",
    "    left join prod.transactions_eth as b\n",
    "    on a.transaction_hash = b.transaction_hash\n",
    "    and b.block_number >= {start_block} and b.block_number<= {end_block}\n",
    "    group by 1,2\n",
    "    \"\"\".format(\n",
    "        start_block = start_block,\n",
    "        end_block = end_block,\n",
    "        txn_list = \",\".join('\"'+txn+'\"' for txn in txn_list)\n",
    "    )\n",
    "    res,field_name = db.read_sql(sql)\n",
    "    return res\n",
    "\n",
    "\n",
    "txn_list = [\n",
    "    '0xf41775f2a03045511deee450845d6e197a2909ac46c2f3759f2dff699eee5aa1',\n",
    "    '0xec7b3c821492dd76ac274b7ac37e0b55cabe535ecbd917b740f8d3389c2c3b27',\n",
    "    '0xc154db3aefe3e7a1d58ee45c2b543faa49e341075588f7e1e113ffb93d74d930'\n",
    "]\n",
    "start_block = 15100000\n",
    "end_block = 15178000\n",
    "res = get_coinbase_trf(txn_list,start_block,end_block)\n",
    "res"
   ]
  },
  {
   "cell_type": "markdown",
   "id": "d91e6135-feba-43b7-a5a5-25f09a5e17e4",
   "metadata": {
    "jp-MarkdownHeadingCollapsed": true,
    "tags": []
   },
   "source": [
    "# Protocal Liquidity"
   ]
  },
  {
   "cell_type": "code",
   "execution_count": 80,
   "id": "9bd868a8-c2cf-498e-bf8c-9094f41f4697",
   "metadata": {},
   "outputs": [
    {
     "data": {
      "text/html": [
       "<div>\n",
       "<style scoped>\n",
       "    .dataframe tbody tr th:only-of-type {\n",
       "        vertical-align: middle;\n",
       "    }\n",
       "\n",
       "    .dataframe tbody tr th {\n",
       "        vertical-align: top;\n",
       "    }\n",
       "\n",
       "    .dataframe thead th {\n",
       "        text-align: right;\n",
       "    }\n",
       "</style>\n",
       "<table border=\"1\" class=\"dataframe\">\n",
       "  <thead>\n",
       "    <tr style=\"text-align: right;\">\n",
       "      <th></th>\n",
       "      <th>protocol_address</th>\n",
       "      <th>liquidity</th>\n",
       "    </tr>\n",
       "  </thead>\n",
       "  <tbody>\n",
       "    <tr>\n",
       "      <th>0</th>\n",
       "      <td>0x760166fa4f227da29ecac3bec348f5fa853a1f3c</td>\n",
       "      <td>151234.03069</td>\n",
       "    </tr>\n",
       "  </tbody>\n",
       "</table>\n",
       "</div>"
      ],
      "text/plain": [
       "                             protocol_address     liquidity\n",
       "0  0x760166fa4f227da29ecac3bec348f5fa853a1f3c  151234.03069"
      ]
     },
     "execution_count": 80,
     "metadata": {},
     "output_type": "execute_result"
    }
   ],
   "source": [
    "def get_protocol_liquidity(pair_list):\n",
    "    sql =\"\"\"\n",
    "    select a.account_address as protocol_address\n",
    "        ,a.token_address\n",
    "        ,a.`value` * b.price as usd_value\n",
    "    from dw.dws_token_balance_eth as a\n",
    "    left join\n",
    "    (\n",
    "        select token_address,max(price) as price\n",
    "        from dw.dwb_token_price_eth_byday_di\n",
    "        where dt >= DATE_SUB(now(),1)\n",
    "        group by 1\n",
    "    ) as b\n",
    "    on a.token_address = b.token_address\n",
    "    where a.account_address in ({pair_list_str})\n",
    "    \"\"\".format(\n",
    "        pair_list_str = \",\".join('\"'+p[0]+'\"' for p in pair_list)\n",
    "    )\n",
    "    df = getSqlResult(sql)\n",
    "    df.set_axis([\"protocol_address\",\"token_address\",\"liquidity\"],axis=1,inplace=True)\n",
    "\n",
    "    df_raw=[]\n",
    "    for i in range(len(pair_list)):\n",
    "        for j in range(len(pair_list[i])-1):\n",
    "            df_raw.append([pair_list[i][0],pair_list[i][j+1]])\n",
    "    df1 = pd.DataFrame(df_raw)\n",
    "    df1.set_axis([\"protocol_address\",\"token_address\"],axis=1,inplace=True)\n",
    "\n",
    "    df_res = pd.merge(\n",
    "        df,df1,how='inner',\n",
    "        left_on=['protocol_address','token_address'],\n",
    "        right_on=['protocol_address','token_address']\n",
    "    )\n",
    "    df_res = df_res.groupby(['protocol_address']).sum().reset_index()\n",
    "    return df_res\n",
    "\n",
    "\n",
    "pair_list = [\n",
    "    ('0x760166fa4f227da29ecac3bec348f5fa853a1f3c','0xc02aaa39b223fe8d0a0e5c4f27ead9083c756cc2','0x0000000000085d4780b73119b644ae5ecd22b376'), \n",
    "]\n",
    "df = get_protocol_liquidity(pair_list)\n",
    "df"
   ]
  },
  {
   "cell_type": "markdown",
   "id": "dae4664a-6400-4756-9b77-194505a5e34b",
   "metadata": {
    "jp-MarkdownHeadingCollapsed": true,
    "tags": []
   },
   "source": [
    "# Swap Data is Null"
   ]
  },
  {
   "cell_type": "code",
   "execution_count": 18,
   "id": "57b71ab5-a775-4539-88ee-15f78a695d35",
   "metadata": {},
   "outputs": [
    {
     "name": "stderr",
     "output_type": "stream",
     "text": [
      "INFO:root:connection created\n"
     ]
    },
    {
     "name": "stdout",
     "output_type": "stream",
     "text": [
      "100\n"
     ]
    },
    {
     "data": {
      "text/html": [
       "<div>\n",
       "<style scoped>\n",
       "    .dataframe tbody tr th:only-of-type {\n",
       "        vertical-align: middle;\n",
       "    }\n",
       "\n",
       "    .dataframe tbody tr th {\n",
       "        vertical-align: top;\n",
       "    }\n",
       "\n",
       "    .dataframe thead th {\n",
       "        text-align: right;\n",
       "    }\n",
       "</style>\n",
       "<table border=\"1\" class=\"dataframe\">\n",
       "  <thead>\n",
       "    <tr style=\"text-align: right;\">\n",
       "      <th></th>\n",
       "      <th>transaction_hash</th>\n",
       "      <th>data_is_0x</th>\n",
       "    </tr>\n",
       "  </thead>\n",
       "  <tbody>\n",
       "    <tr>\n",
       "      <th>0</th>\n",
       "      <td>0x341d89f6e4b8f86b6fb6ba3f04c9c463553a2340f882...</td>\n",
       "      <td>0</td>\n",
       "    </tr>\n",
       "    <tr>\n",
       "      <th>1</th>\n",
       "      <td>0xbe18f5e3492f03be80604da65e0c6942cdf0849b03d7...</td>\n",
       "      <td>1</td>\n",
       "    </tr>\n",
       "    <tr>\n",
       "      <th>2</th>\n",
       "      <td>0x37d24d3cc23042112480cc85fe47d5144cdc27fecc2d...</td>\n",
       "      <td>0</td>\n",
       "    </tr>\n",
       "    <tr>\n",
       "      <th>3</th>\n",
       "      <td>0x001c07bf19d8a469df108bf53bf5ce249b1c59ed7d26...</td>\n",
       "      <td>0</td>\n",
       "    </tr>\n",
       "    <tr>\n",
       "      <th>4</th>\n",
       "      <td>0xab28cce933934c9474bc8b1a366aee712ef401ecf263...</td>\n",
       "      <td>0</td>\n",
       "    </tr>\n",
       "    <tr>\n",
       "      <th>...</th>\n",
       "      <td>...</td>\n",
       "      <td>...</td>\n",
       "    </tr>\n",
       "    <tr>\n",
       "      <th>95</th>\n",
       "      <td>0xc3dee1fdc488777cd5fa0561e925975782e3a9567d37...</td>\n",
       "      <td>0</td>\n",
       "    </tr>\n",
       "    <tr>\n",
       "      <th>96</th>\n",
       "      <td>0x67d6d16a252ca0218bd0b4a44a410f401aaefbfa8b69...</td>\n",
       "      <td>0</td>\n",
       "    </tr>\n",
       "    <tr>\n",
       "      <th>97</th>\n",
       "      <td>0x40b498a209b0df4c46591b12d080b34067a16c564c29...</td>\n",
       "      <td>0</td>\n",
       "    </tr>\n",
       "    <tr>\n",
       "      <th>98</th>\n",
       "      <td>0x9efc6eeff3ccdfda2e812659f89921200bce38db1c73...</td>\n",
       "      <td>0</td>\n",
       "    </tr>\n",
       "    <tr>\n",
       "      <th>99</th>\n",
       "      <td>0x83b288f0cfd34a5629db1bac258543559aabd211835d...</td>\n",
       "      <td>0</td>\n",
       "    </tr>\n",
       "  </tbody>\n",
       "</table>\n",
       "<p>100 rows × 2 columns</p>\n",
       "</div>"
      ],
      "text/plain": [
       "                                     transaction_hash  data_is_0x\n",
       "0   0x341d89f6e4b8f86b6fb6ba3f04c9c463553a2340f882...           0\n",
       "1   0xbe18f5e3492f03be80604da65e0c6942cdf0849b03d7...           1\n",
       "2   0x37d24d3cc23042112480cc85fe47d5144cdc27fecc2d...           0\n",
       "3   0x001c07bf19d8a469df108bf53bf5ce249b1c59ed7d26...           0\n",
       "4   0xab28cce933934c9474bc8b1a366aee712ef401ecf263...           0\n",
       "..                                                ...         ...\n",
       "95  0xc3dee1fdc488777cd5fa0561e925975782e3a9567d37...           0\n",
       "96  0x67d6d16a252ca0218bd0b4a44a410f401aaefbfa8b69...           0\n",
       "97  0x40b498a209b0df4c46591b12d080b34067a16c564c29...           0\n",
       "98  0x9efc6eeff3ccdfda2e812659f89921200bce38db1c73...           0\n",
       "99  0x83b288f0cfd34a5629db1bac258543559aabd211835d...           0\n",
       "\n",
       "[100 rows x 2 columns]"
      ]
     },
     "execution_count": 18,
     "metadata": {},
     "output_type": "execute_result"
    }
   ],
   "source": [
    "mysql_host = \"142.132.134.21\"\n",
    "mysql_prot = 9030\n",
    "mysql_user = \"dw\"\n",
    "mysql_pd = \"a64imrJwqKZc9jiU!*aCYi.xnh9*TVhhBmZi\"\n",
    "mysql_db = \"dw\"\n",
    "connection = pymysql.connect(host=mysql_host, user=mysql_user, password=mysql_pd, db=mysql_db, port=mysql_prot, charset='utf8')\n",
    "cursor = connection.cursor()\n",
    "logging.info(\"connection created\")\n",
    "\n",
    "def is_null_data(txn_list,min_blo,max_blo):\n",
    "    sql =\"\"\"\n",
    "    select transaction_hash\n",
    "        ,max(1-(`regexp`(input,\"{pattern}\") or length(input) = 266)) as data_isnot_0x_v1\n",
    "    from prod.traces_bsc\n",
    "    where transaction_hash in ({txn_list_str})\n",
    "    and block_number >= {min_blo}\n",
    "    and block_number <= {max_blo}\n",
    "    and input like '0x022c0d9f%'\n",
    "    group by 1\n",
    "    \"\"\".format(\n",
    "        txn_list_str = \",\".join('\"'+p+'\"' for p in txn_list),\n",
    "        min_blo = min_blo,\n",
    "        max_blo = max_blo,\n",
    "        pattern = \"0{62}80{65}$\"\n",
    "    )\n",
    "    df = getSqlResult(sql)\n",
    "    df.set_axis([\"transaction_hash\",\"data_is_0x\"],axis=1,inplace=True)\n",
    "    return df\n",
    "\n",
    "txn_list = ['0xd27f50aaf535b9f612b3508a46f88949098f891f59e2a734533ee9f7ab40032e', '0x4da2316fffa5881fd1c550b3c1cf40fdf52cc6e4bd413331074b90723e0bd027', '0x7097a910ae18c0f8cbb0dd46bdbacf75252eb4f18c255698c0ac62e5304a8a0f', '0x2646d615c79209c77ab5a996eb55d92ebc562850747ebb8766d704271866fb7b', '0xa4f04fb66e036545a31da259b881e5fdd3ce4e6dbf58ead808e2cb98646b6d74', '0x8e7586fae53d6b64cd85fe5c44c6ded08a6b0bd13783cdb6cd5710d02d77a6cf', '0xa4f3046feb0964e8e7c7b35bd02eb4c9aa4f9f745a888dd09eebd0e3a1fa529d', '0x3d0a3733c2ca97d2639332f90677563868ac590a00d1e628a0182181023d9846', '0x26394e24de17e43b5dc9cf86203076437f7411db338bb102039e1b5bcf00f8d8', '0x5761d235d0e278791c7cd777d29e8e5b014a2c0f5219926b5cf5645d263bfabe', '0x40b498a209b0df4c46591b12d080b34067a16c564c297ff036192e6a134f177b', '0x53fcf3b805ff7baf40080b58bc0d36e7b6fad275df30f721d8d6d00737b21171', '0x15c73eb91006b820c6ee070d3a17881ef25440a8f186e85bba855d636e0abbcc', '0x6d9e5418d10490065f524769c319f913d5df4d67e0f398b7d80fa771d57c8453', '0x37d24d3cc23042112480cc85fe47d5144cdc27fecc2dd70b30e1ab4e08e8da0a', '0x3af10ba3c9669c807544ff01923b5bea684690be2c91ac530294b339b2f51046', '0xf8d0bcb915e9da9aeb17417d0ed8dea259280797dda4a6b49d837f266b683ed0', '0xd9e76d210c000b51e5ed71b21a16df985a45d9dbe1b8d7f5a9bbdb6cd56ad913', '0xbb934e7308ccb765ab5359c8e143f45f9f2e2f1758bb1ec9d87b92777206eb8d', '0x546a0bc7b5fb12c2143dc2358192614637233d5d1f9645477fa9847a573802f9', '0x4c563f8fb039e3ef7802649b36e71a88a8e3833a9dc170239fb46cc97af33572', '0x64e75c555ca76bc0e2d72dd36f34eb9baaffbd077aac45a680a8c812e1203ca3', '0xbadbe4bd49899bc7b89c138343b388cce65fab73bee2c11020897c57d18cd613', '0x36b53b5c898b43b5225ac6510543a6536d80311712d8f42a44f9394ff45ec68f', '0x83b288f0cfd34a5629db1bac258543559aabd211835dad93fe51aa0723e5bccd', '0x6dca4dff18655a72a85e876b69b90de2c00a02bd0f57db8c7aba1ef6f113b4c4', '0xae4bb29618c6580c37f3b073f2839e5fc8f2522cd2b57c05c07e3a968e714f13', '0x9ee12bf6b54467c1d12480230698cc26fcc56cb4c671e78b1489bee4d21ac29a', '0x5f2953d97790383ef1113c7a40bc51d2ea32e32894ca3c82c04c5ac97d298743', '0xacfadbd8d4e6d514106b276a412bb8d8e3c23a39f34c84c2461b629142a9673c', '0xbcce4fdd496248dab7a328e9fa5e92f3099bc063993fbe059108fc75130be5fa', '0x16beb8502fa03a955adb3f8833e1469da1fd57f3b0fedad08dfc9897c864c5a8', '0xc3dee1fdc488777cd5fa0561e925975782e3a9567d37ce1cb426516ba728a5ac', '0xad93191ad6273dd795183cb43ab37d02ec07fd50a9c73fc421dd4c25d8448ca4', '0x001c07bf19d8a469df108bf53bf5ce249b1c59ed7d26cccad0344dd3828a835a', '0x890819ddcf8fbbb40f69a968964606491bdc463740532ebf3ec5ce3b519e82a0', '0x13ddb2b573d702720b711a4f1f4844453864437317dba0d77c0115e44331d9e3', '0x3740638ad8f4b65593557f0af6ccbea17b74d8b933c30717e8c2a39bc22c77f0', '0x62e81cca30bead4101fb30dd7ab21581d15eb785eb8bb4276dfaf6442eac0229', '0x6e7199b5a43ed3c6bb4732ef16bf4aa30b9448b18803e8460df63c2234daed89', '0xcadb6c0634eb73a85cd862823ee5293ed86d661ca40605307f7f03466d201022', '0x315aaf1e6d68333a5b469b9e32de77bd20ddc48d04c9a4bebe8d8e52db618f87', '0xc1bb94bb9918ccd64715cc249d1a355a6dedb4db1fdcd76d551570369ce0360e', '0x2ea9af0d0e5c85a4e93709b87b3527188bd124d09c67c6aa90130f06c22330a9', '0x30adb5ab96ba8a7d6d16794187f5dd7fb1662de4363e64d6c34aa8ae28809ac5', '0x866c981f537ebbefa1eb5451a85cd43bcac3b5f6a4064271329a1dff521cccc4', '0x96ae22ecc4f9e1d38955737f9257c614c6125671cae215b5f01c431af999fc14', '0xbe18f5e3492f03be80604da65e0c6942cdf0849b03d7c5206ca446c271e69772', '0xf37ee4024c3532de1ba19e559c5d2050578f3957c3f7ce871541ba89305bddd5', '0xf5a3a0192fc19ba89e71b39700104ab25012c026ace6a9b7beba4d3e0b21c34b', '0x89cb1c2d3784b71ac3c2febb1521f189d2d52ac9f6496584dba1ded5377f3672', '0x2b8574c57450ae2d729fd2e8bfb9b3fe8217bdc135dcfd2a8712d712408c7e58', '0x90c500b7c917064faf7b346b784c7d0ead03aa45fd540210d84a61b9be205a17', '0xda2e44e0c95357a7df69c177357c6af54c4e4a46b855e8578d93c86656657a78', '0xf1fa15e7c46b9eda1b7391b51fd30adada6daf98bfa1eedc1353a7dc25b68f24', '0x6e5fdff39237237fa89d77a62cbde2769616f7c13ca8550bbea5bf3741eeede5', '0x1462f293a70e42155fb32348f25191a16479657d959cf7531eb13c5565552911', '0x1790eb921efb0bb9132a10cc3deee17c2b73beb70f767fcf4aaa8c9eb139d4d9', '0x06c9975aa89876c560eb704cc066dd21ae5d1b8059d17a8ea64a394a0e26bd5b', '0xe42010ad69667d96b3826513be01ae0551cfed6564b6365b802895046391514c', '0x7f88eba7027b15e542a4c19cf26020c2f5e5c438e54e2be9d592728be598ac02', '0xa0b588666e53a925f047be9a4d7a2c8411243e98e289f279fce97b62f1881ea4', '0x6e80ccae18bbd68fcf516ea47fa9e51e1a205e1956e467368886d9d15117c598', '0x2dec71cc642bacc67322c6620fc4873c07d66ef00c618018acee09ff6f424243', '0xfcfbebf0a1468ef6f69f3fbd2dc856b97a86c03845011197ab8afb5228f387d2', '0xe2e1d074fbd50b4643c6145780cc90b5135d20af432abfae6f94b06fe7a2dc6a', '0x9efc6eeff3ccdfda2e812659f89921200bce38db1c733ffc9e3bd42a91ddcac9', '0xf46e88dbeaf1866aed228e42cdf17abf347bfdb6dd525811c9b12dc57a989611', '0x220932133aeb7f5cdb45e9d44842fb56851052c43fda0c890b83349c4bdca327', '0x3fff159b24b61ac82e49245a9cb086ed02a06826de4f8271d2eada587d2685a5', '0x226c5f638700d9aaaf4c36897c0db2367df3978bf2cb79c23391456729eef2ea', '0x3f834bba86de54c7bf842534481ff62f5fb03e8bd3dc0d8d087d00c08f40c098', '0xa3d34658cae6fe94b3e6c7bb1a7504d3e3f721f63bc0c35c6bf5ed245ee21ca7', '0x6b64e9732f2859dd008951cd984c2eee73552ef60cb6609bd8680dcaec21c290', '0x548fa49513d25d747b19e2568a06092834e1cbd24e9a6e8dde332a62968761c2', '0xeda0d06d6d2b0810a464cb67096b951426c16178a5ed3aac5d3da839457a58e2', '0x1c18ad3c4a7e390009227a2ccd971e194e5668670abac6c6e4841d0ab19c730a', '0x418598126372eb4db6db37fcd07ed725fd1fe5735f406ccc6d9362d5504e0ffd', '0x38315ed99e1a6eae1c70a8bbfb0621ad8611a3f5f394d1c315143407c1fefb11', '0xe74d75118a872ab0c6f4a000a9bf42a0642bc18147aedef8f008dbb4bbc07dbf', '0x807d776232228fe4a131cec5a831bbed300e3601a2cc685cf693ed855b0f62ba', '0xf2368ebe65d97eaf35cf85287f875d1d0967bcbb5172d952e3063b5325cc9f6a', '0x67d6d16a252ca0218bd0b4a44a410f401aaefbfa8b6909239926e9d8a46b362c', '0x5ad57520babc6637f6fe24f55ae73a62ce0356e8ce57133515ba4f4627fb5393', '0x9de3c7a7dd5d3b0fee98f8f7d8ea459b15657ccde114f0eff6b83e1eaa9f4214', '0x341d89f6e4b8f86b6fb6ba3f04c9c463553a2340f8829ff7a146f76b5491d5ef', '0x2c9d264ae0965287e6895a38052b256a72182edc742c070b9486b62bab7d5505', '0xbcd43f068a0cdf03c9d31f7e532f099cec9e7eab70bc81022973ca32e5cf8a0d', '0x9a14c1a963428951a076062274ccbaff48461689818202c885a0a9730ba8d343', '0x60fd6efc3b66f3ff93a3b11f288e591c9538868f895caa779bac630ac73cba1b', '0x3b623ed7534ae9538f18718fd3bfedf44620f7bd54ec9261491be5fae7b30aef', '0xdf1df8d54610eab5086b9b67e0068cbebb244048fedd9cc1d549571f1320059a', '0xd361215eb0dd518345feccb100c144f99f774e7d95f1cbf186aca5179a407f98', '0x46f208a4fcf5eb6fee3fac7aab22c77d4b46c13b09d650f39c3b4d2a841c1ffa', '0x065881481a646c06e236e9a0cd1f67349dbc4fab0dd312d397107ad624252b07', '0x402c6af6e7903035e8ce9265fcf5adabb48596cdcfea0a9de83560cf0130e08f', '0xbc8bd1859e10c93a3804fd23c6fbbb8c3fd0fe67dca12f827e1d147862a1cd1f', '0x3f4bc7642df393923497a505fda42102b0afc6f888629ff18731c46483151ab3', '0xab28cce933934c9474bc8b1a366aee712ef401ecf26350b3550f0da5655fa663', '0xb44572101806e468087d9412c64fa064042e299cf63fc54250b50409fd92eb20']\n",
    "print(len(txn_list))\n",
    "min_blo = 22239268\n",
    "max_blo = 22243300\n",
    "df = is_null_data(txn_list,min_blo,max_blo)\n",
    "df\n",
    "\n"
   ]
  },
  {
   "cell_type": "markdown",
   "id": "3ad0fe0c-4596-482f-aca1-6ac82c96ac5f",
   "metadata": {
    "jp-MarkdownHeadingCollapsed": true,
    "tags": []
   },
   "source": [
    "# Tx of FuncSig"
   ]
  },
  {
   "cell_type": "code",
   "execution_count": 29,
   "id": "4194759a-5edc-43e4-a120-fbc48554e744",
   "metadata": {
    "tags": []
   },
   "outputs": [
    {
     "name": "stdout",
     "output_type": "stream",
     "text": [
      "\n",
      "        select transaction_hash\n",
      "        from prod.traces_eth\n",
      "        where input like \"0x10d1e85c%\"\n",
      "    \n",
      "402179\n"
     ]
    }
   ],
   "source": [
    "def get_func_trace_v1(func_sig):\n",
    "    sql = \"\"\"\n",
    "        select transaction_hash\n",
    "        from prod.traces_eth\n",
    "        where input like \"{func_sig}%\"\n",
    "    \"\"\".format(func_sig = func_sig)\n",
    "    print(sql)\n",
    "    res,fields = getSqlResult(sql)\n",
    "    return res\n",
    "\n",
    "res = get_func_trace_v1(\"0x10d1e85c\")\n",
    "print(len(res))"
   ]
  },
  {
   "cell_type": "code",
   "execution_count": null,
   "id": "0f4927df-d8cd-458f-ab60-562f53982672",
   "metadata": {},
   "outputs": [],
   "source": [
    "def get_func_trace_v2(func_sig,chunk = 1000000):\n",
    "    sql = \"\"\"select max(block_number) as block_number from prod.traces_eth\"\"\"\n",
    "    cursor.execute(sql)\n",
    "    res_rows = cursor.fetchone()\n",
    "    max_blo = res_rows[0]\n",
    "    \n",
    "    start = 0\n",
    "    res_df = pd.DataFrame()\n",
    "    while start < max_blo:\n",
    "        end = start + 1000000 if start + 1000000 < max_blo else max_blo-100\n",
    "        print(start,end)\n",
    "        sql = \"\"\"\n",
    "            select transaction_hash\n",
    "            from prod.traces_eth\n",
    "            where block_number >= {start_blo}\n",
    "            and block_number < {end_blo}\n",
    "            and input like \"{func_sig}%\"\n",
    "        \"\"\".format(\n",
    "            start_blo = start,\n",
    "            end_blo = end,\n",
    "            func_sig = func_sig\n",
    "        )\n",
    "        df = getSqlResult(sql)\n",
    "        res_df = pd.concat([res_df,df])\n",
    "        print(len(df),len(res_df))\n",
    "        start = end\n",
    "    return res_df\n",
    "\n",
    "print(len(get_func_trace_v2(\"0x10d1e85c\")))"
   ]
  },
  {
   "cell_type": "markdown",
   "id": "5bc67a5f-987d-4f37-ad70-b283c5449def",
   "metadata": {
    "jp-MarkdownHeadingCollapsed": true,
    "tags": []
   },
   "source": [
    "# Compound User"
   ]
  },
  {
   "cell_type": "code",
   "execution_count": 3,
   "id": "e69830b1-6bca-45a8-a7dd-c5f994ff6bf3",
   "metadata": {},
   "outputs": [
    {
     "name": "stdout",
     "output_type": "stream",
     "text": [
      "402708 15831065\n"
     ]
    }
   ],
   "source": [
    "def get_compound_users():\n",
    "    connection = pymysql.connect(host=mysql_host, user=mysql_user, password=mysql_pd, db='dw', port=int(mysql_prot), charset='utf8')\n",
    "    cursor = connection.cursor()\n",
    "\n",
    "    # get max block_number\n",
    "    max_blo_sql = \"\"\"\n",
    "        select max(block_number) as block_number\n",
    "        from dw.dws_token_balance_eth\"\"\"\n",
    "    cursor.execute(max_blo_sql)\n",
    "    max_blo = cursor.fetchall()[0][0]\n",
    "\n",
    "    \n",
    "    sql = \"\"\"\n",
    "        select account_address\n",
    "        from dw.dws_token_balance_eth\n",
    "        where token_address in (\n",
    "            '0x041171993284df560249b57358f931d9eb7b925d',\n",
    "            '0x12392f67bdf24fae0af363c24ac620a2f67dad86',\n",
    "            '0x158079ee67fce2f58472a96584a73c7ab9ac95c1',\n",
    "            '0x35a18000230da775cac24873d00ff85bccded550',\n",
    "            '0x39aa39c021dfbae8fac545936693ac917d5e7563',\n",
    "            '0x4b0181102a0112a2ef11abee5563bb4a3176c9d7',\n",
    "            '0x4ddc2d193948926d02f9b1fe9e1daa0718270ed5',\n",
    "            '0x5d3a536e4d6dbd6114cc1ead35777bab948e3643',\n",
    "            '0x6c8c6b02e7b2be14d4fa6022dfd6d75921d90e4e',\n",
    "            '0x70e36f6bf80a52b3b46b3af8e106cc0ed743e8e4',\n",
    "            '0x7713dd9ca933848f6819f38b8352d9a15ea73f67',\n",
    "            '0x80a2ae356fc9ef4305676f7a3e2ed04e12c33946',\n",
    "            '0x95b4ef2869ebd94beb4eee400a99824bf5dc325b',\n",
    "            '0xb3319f5d18bc0d84dd1b4825dcde5d5f7266d407',\n",
    "            '0xc11b1268c1a384e55c48c2391d8d480264a3a7f4',\n",
    "            '0xccf4429db6322d5c611ee964527d42e5d685dd6a',\n",
    "            '0xe65cdb6479bac1e22340e4e755fae7e509ecd06c',\n",
    "            '0xf5dce57282a584d2746faf1593d3121fcac444dc',\n",
    "            '0xf650c3d88d12db855b8bf7d11be6c55a4e07dcc9',\n",
    "            '0xface851a4921ce59e912d19329929ce6da6eb0c7'\n",
    "        )\n",
    "        group by 1\n",
    "    \"\"\"\n",
    "    cursor.execute(sql)\n",
    "    res_rows = cursor.fetchall()\n",
    "    return res_rows,max_blo\n",
    "\n",
    "res,max_blo = get_compound_users()\n",
    "print(len(res),max_blo)"
   ]
  },
  {
   "cell_type": "markdown",
   "id": "b947e111-e5c6-458c-ac29-6c516b90a829",
   "metadata": {
    "jp-MarkdownHeadingCollapsed": true,
    "tags": []
   },
   "source": [
    "# Test"
   ]
  },
  {
   "cell_type": "code",
   "execution_count": 68,
   "id": "9f054d13-e963-4963-a872-08f4aea447d0",
   "metadata": {},
   "outputs": [
    {
     "data": {
      "text/html": [
       "<div>\n",
       "<style scoped>\n",
       "    .dataframe tbody tr th:only-of-type {\n",
       "        vertical-align: middle;\n",
       "    }\n",
       "\n",
       "    .dataframe tbody tr th {\n",
       "        vertical-align: top;\n",
       "    }\n",
       "\n",
       "    .dataframe thead th {\n",
       "        text-align: right;\n",
       "    }\n",
       "</style>\n",
       "<table border=\"1\" class=\"dataframe\">\n",
       "  <thead>\n",
       "    <tr style=\"text-align: right;\">\n",
       "      <th></th>\n",
       "      <th>protocol_address</th>\n",
       "      <th>market_value</th>\n",
       "    </tr>\n",
       "  </thead>\n",
       "  <tbody>\n",
       "    <tr>\n",
       "      <th>0</th>\n",
       "      <td>0x2db094c50181f39863858f1878545feb26b975d0</td>\n",
       "      <td>9.003840e-06</td>\n",
       "    </tr>\n",
       "    <tr>\n",
       "      <th>1</th>\n",
       "      <td>0x3416cf6c708da44db2624d63ea0aaef7113527c6</td>\n",
       "      <td>1.614799e+08</td>\n",
       "    </tr>\n",
       "    <tr>\n",
       "      <th>2</th>\n",
       "      <td>0x48da0965ab2d2cbf1c17c09cfb5cbe67ad5b1406</td>\n",
       "      <td>7.680899e+05</td>\n",
       "    </tr>\n",
       "    <tr>\n",
       "      <th>3</th>\n",
       "      <td>0x5777d92f208679db4b9778590fa3cab3ac9e2168</td>\n",
       "      <td>8.981315e+08</td>\n",
       "    </tr>\n",
       "    <tr>\n",
       "      <th>4</th>\n",
       "      <td>0xb20ed18ee19747c0811d57d38b7ab3d71e44c191</td>\n",
       "      <td>0.000000e+00</td>\n",
       "    </tr>\n",
       "    <tr>\n",
       "      <th>5</th>\n",
       "      <td>0xd8dec118e1215f02e10db846dcbbfe27d477ac19</td>\n",
       "      <td>7.531073e+00</td>\n",
       "    </tr>\n",
       "    <tr>\n",
       "      <th>6</th>\n",
       "      <td>0xe6ff8b9a37b0fab776134636d9981aa778c4e718</td>\n",
       "      <td>3.507081e+02</td>\n",
       "    </tr>\n",
       "  </tbody>\n",
       "</table>\n",
       "</div>"
      ],
      "text/plain": [
       "                             protocol_address  market_value\n",
       "0  0x2db094c50181f39863858f1878545feb26b975d0  9.003840e-06\n",
       "1  0x3416cf6c708da44db2624d63ea0aaef7113527c6  1.614799e+08\n",
       "2  0x48da0965ab2d2cbf1c17c09cfb5cbe67ad5b1406  7.680899e+05\n",
       "3  0x5777d92f208679db4b9778590fa3cab3ac9e2168  8.981315e+08\n",
       "4  0xb20ed18ee19747c0811d57d38b7ab3d71e44c191  0.000000e+00\n",
       "5  0xd8dec118e1215f02e10db846dcbbfe27d477ac19  7.531073e+00\n",
       "6  0xe6ff8b9a37b0fab776134636d9981aa778c4e718  3.507081e+02"
      ]
     },
     "execution_count": 68,
     "metadata": {},
     "output_type": "execute_result"
    }
   ],
   "source": [
    "pair_list = [\n",
    "    ('0x5777d92f208679db4b9778590fa3cab3ac9e2168','0xa0b86991c6218b36c1d19d4a2e9eb0ce3606eb48', '0x6b175474e89094c44da98b954eedeac495271d0f'),\n",
    "    ('0x2db094c50181f39863858f1878545feb26b975d0', '0xa0b86991c6218b36c1d19d4a2e9eb0ce3606eb48', '0x0bc529c00C6401aEF6D220BE8C6Ea1667F6Ad93e'), \n",
    "    ('0x3416cf6c708da44db2624d63ea0aaef7113527c6', '0xa0b86991c6218b36c1d19d4a2e9eb0ce3606eb48', '0xdac17f958d2ee523a2206206994597c13d831ec7'), \n",
    "    ('0xd8dec118e1215f02e10db846dcbbfe27d477ac19', '0xc02aaa39b223fe8d0a0e5c4f27ead9083c756cc2', '0x6b175474e89094c44da98b954eedeac495271d0f'), \n",
    "    ('0xe6ff8b9a37b0fab776134636d9981aa778c4e718', '0xc02aaa39b223fe8d0a0e5c4f27ead9083c756cc2', '0x2260FAC5E5542a773Aa44fBCfeDf7C193bc2C599'), \n",
    "    ('0xb20ed18ee19747c0811d57d38b7ab3d71e44c191', '0x6b175474e89094c44da98b954eedeac495271d0f', '0x7Fc66500c84A76Ad7e9c93437bFc5Ac33E2DDaE9'), \n",
    "    ('0x48da0965ab2d2cbf1c17c09cfb5cbe67ad5b1406', '0x6b175474e89094c44da98b954eedeac495271d0f', '0xdac17f958d2ee523a2206206994597c13d831ec7')\n",
    "]\n",
    "df_raw=[]\n",
    "for i in range(len(pair_list)):\n",
    "    for j in range(2):\n",
    "        df_raw.append([pair_list[i][0],pair_list[i][j+1]])\n",
    "df1 = pd.DataFrame(df_raw)\n",
    "df1.set_axis([\"protocol_address\",\"token_address\"],axis=1,inplace=True)\n",
    "\n",
    "df_res = pd.merge(df,df1,how='inner',left_on=['protocol_address','token_address'],right_on=['protocol_address','token_address'])\n",
    "df_res.groupby(['protocol_address']).sum().reset_index()"
   ]
  },
  {
   "cell_type": "code",
   "execution_count": 89,
   "id": "580fad5d-edc3-4be3-94df-903dc6a725b7",
   "metadata": {},
   "outputs": [
    {
     "data": {
      "text/plain": [
       "0.18"
      ]
     },
     "execution_count": 89,
     "metadata": {},
     "output_type": "execute_result"
    }
   ],
   "source": [
    "int('027f7d0bdb920000',16)/pow(10,18)"
   ]
  },
  {
   "cell_type": "code",
   "execution_count": 52,
   "id": "33db83a4-78c1-47c4-a9fc-7a4925d291c3",
   "metadata": {
    "tags": []
   },
   "outputs": [],
   "source": [
    "sql = \"\"\"select max(block_number) as block_number from prod.traces_eth\"\"\"\n",
    "cursor.execute(sql)\n",
    "res_rows = cursor.fetchall()\n",
    "max_blo = res_rows[0]"
   ]
  },
  {
   "cell_type": "code",
   "execution_count": 53,
   "id": "9b7be5fa-1827-4cad-9013-01457313e766",
   "metadata": {},
   "outputs": [
    {
     "data": {
      "text/plain": [
       "((15793879,),)"
      ]
     },
     "execution_count": 53,
     "metadata": {},
     "output_type": "execute_result"
    }
   ],
   "source": [
    "res_rows"
   ]
  }
 ],
 "metadata": {
  "kernelspec": {
   "display_name": "Python 3 (ipykernel)",
   "language": "python",
   "name": "python3"
  },
  "language_info": {
   "codemirror_mode": {
    "name": "ipython",
    "version": 3
   },
   "file_extension": ".py",
   "mimetype": "text/x-python",
   "name": "python",
   "nbconvert_exporter": "python",
   "pygments_lexer": "ipython3",
   "version": "3.9.12"
  },
  "vscode": {
   "interpreter": {
    "hash": "31f2aee4e71d21fbe5cf8b01ff0e069b9275f58929596ceb00d14d90e3e16cd6"
   }
  }
 },
 "nbformat": 4,
 "nbformat_minor": 5
}
